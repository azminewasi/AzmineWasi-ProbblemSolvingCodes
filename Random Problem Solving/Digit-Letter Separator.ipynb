{
 "metadata": {
  "language_info": {
   "codemirror_mode": {
    "name": "ipython",
    "version": 3
   },
   "file_extension": ".py",
   "mimetype": "text/x-python",
   "name": "python",
   "nbconvert_exporter": "python",
   "pygments_lexer": "ipython3",
   "version": 3
  },
  "orig_nbformat": 2
 },
 "nbformat": 4,
 "nbformat_minor": 2,
 "cells": [
  {
   "source": [
    "\n",
    "𝗤𝘂𝗲𝘀𝘁𝗶𝗼𝗻:\n",
    "\n",
    "Write a python program that will take a string as input from the user. The \n",
    "input string should have a combination of BOTH alphabets and digits. Your \n",
    "task is to identify the digits and alphabets from that input string and   \n",
    "make separate groups that classify it into two categories: digits(0-9) and \n",
    "the alphabets. Consider the alphabets to be NOT case-sensitive.\n",
    "\n",
    "\n",
    "Then make a dictionary with the two separate groups where digits(0-9)’s key \n",
    "will be 1, and alphabet’s key will be 2. Then, finally print the dictionary \n",
    "to the user. Make sure when grouping the characters-, that NO DUPLICATE \n",
    "values are added.\n",
    "\n",
    "Sample Input 1:\n",
    "\n",
    "\"cse110 cse490 cse258\"\n",
    "\n",
    "Sample Output 1:\n",
    "\n",
    "{1: ['1', '0', '4', '9', '2', '5', '8'], 2: ['c', 's', 'e']}\n",
    "\n",
    "Explanation 1:\n",
    "\n",
    "Here, '1', '0', '4', '9', '2', '5' , '8'  falls under the 1st category \n",
    "\n",
    "and 'c', 's', 'e' falls under the 2nd category.\n",
    "\n",
    "\n",
    "Sample Input 2:\n",
    "\n",
    "\"this is cse110 quiz\"\n",
    "\n",
    "\n",
    "Sample Output 2:\n",
    "\n",
    "{1: ['1', '0'], 2:['t', 'h', 'i', 's', 'c', 'e', 'q', 'u', 'z']}\n",
    "\n",
    "\n",
    "Explanation 2:\n",
    "\n",
    "Here, '1', '0' falls under the 1st category \n",
    "\n",
    "and  't', 'h', 'i', 's', 'c', 'e', 'q', 'u', 'z' falls under the 2nd   \n",
    "category."
   ],
   "cell_type": "markdown",
   "metadata": {}
  },
  {
   "cell_type": "code",
   "execution_count": null,
   "metadata": {},
   "outputs": [],
   "source": [
    "digits=\"0123456789\"\n",
    "alphabet=\"qwertyuioplkjhgfdsazxcvbnm\"\n",
    "text=input(\"\")\n",
    "text=text.lower()\n",
    "digits_list=[]\n",
    "letters_list=[]\n",
    "for letter in text:\n",
    "  if letter in digits:\n",
    "    if letter not in digits_list:\n",
    "      digits_list.append(letter)\n",
    "  elif letter in alphabet:\n",
    "    if letter not in letters_list:\n",
    "      letters_list.append(letter)\n",
    "result_dict=dict(zip([1,2],[digits_list,letters_list]))\n",
    "print(result_dict)"
   ]
  }
 ]
}